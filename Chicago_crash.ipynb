{
 "cells": [
  {
   "cell_type": "markdown",
   "metadata": {},
   "source": [
    "# Chicago Crashes: Phase 3 Project"
   ]
  },
  {
   "cell_type": "markdown",
   "metadata": {},
   "source": [
    "## Stakeholders & Main Problem\n",
    "**Stakeholder:** City of Chicago Department of Transportation (CDOT)\n",
    "\n",
    "**Business Problem:** Identify and rank the key environmental, temporal, and behavioral factors that contribute most to the severity of vehicle crashes. The goal is to inform city policy and road safety strategies by predicting crash severity categories.\n"
   ]
  },
  {
   "cell_type": "markdown",
   "metadata": {},
   "source": [
    "\n",
    "## Data Understanding and Preparation\n",
    "We will work with two datasets:\n",
    "- `Traffic_Crashes_-_Crashes_20250605.csv`\n",
    "- `Traffic_Crashes_-_People_20250605.csv`\n",
    "\n",
    "Our **target** is the severity of crashes, using the `MOST_SEVERE_INJURY` column.\n",
    "\n"
   ]
  },
  {
   "cell_type": "markdown",
   "metadata": {},
   "source": [
    "## Import datasets and Libraries"
   ]
  },
  {
   "cell_type": "markdown",
   "metadata": {},
   "source": [
    "# Data manipulation and visualization"
   ]
  },
  {
   "cell_type": "code",
   "execution_count": 75,
   "id": "72b45838",
   "metadata": {},
   "outputs": [],
   "source": [
    "# Import libraries for data manipulation, visualization, and modeling \n",
    "import pandas as pd\n",
    "import numpy as np \n",
    "import matplotlib.pyplot as plt\n",
    "import seaborn as sns\n",
    "\n",
    "from sklearn.model_selection import train_test_split, GridSearchCV\n",
    "from sklearn.preprocessing import StandardScaler, OneHotEncoder, LabelEncoder\n",
    "from sklearn.compose import ColumnTransformer\n",
    "from sklearn.pipeline import Pipeline\n",
    "from sklearn.impute import SimpleImputer\n",
    "from imblearn.over_sampling import SMOTE\n",
    "from imblearn.under_sampling import RandomUnderSampler\n",
    "\n",
    "from sklearn.dummy import DummyClassifier\n",
    "from sklearn.linear_model import LogisticRegression\n",
    "from sklearn.tree import DecisionTreeClassifier\n",
    "from sklearn.ensemble import RandomForestClassifier\n",
    "\n",
    "\n",
    "from sklearn.metrics import classification_report, confusion_matrix, accuracy_score, precision_score, recall_score\n",
    "\n",
    "import warnings\n",
    "warnings.filterwarnings('ignore')"
   ]
  },
  {
   "cell_type": "markdown",
   "id": "67cca325",
   "metadata": {},
   "source": [
    "# Load data\n",
    "\n",
    "\n",
    "\n"
   ]
  },
  {
   "cell_type": "code",
   "execution_count": 76,
   "id": "fb782acc",
   "metadata": {},
   "outputs": [],
   "source": [
    "# Load the crash and people datasets \n",
    "crashes_df = pd.read_csv('Traffic_Crashes_-_Crashes_20250605.csv')\n",
    "people_df = pd.read_csv('Traffic_Crashes_-_People_20250606.csv')"
   ]
  },
  {
   "cell_type": "code",
   "execution_count": 77,
   "id": "15cbeef7",
   "metadata": {},
   "outputs": [
    {
     "data": {
      "text/html": [
       "<div>\n",
       "<style scoped>\n",
       "    .dataframe tbody tr th:only-of-type {\n",
       "        vertical-align: middle;\n",
       "    }\n",
       "\n",
       "    .dataframe tbody tr th {\n",
       "        vertical-align: top;\n",
       "    }\n",
       "\n",
       "    .dataframe thead th {\n",
       "        text-align: right;\n",
       "    }\n",
       "</style>\n",
       "<table border=\"1\" class=\"dataframe\">\n",
       "  <thead>\n",
       "    <tr style=\"text-align: right;\">\n",
       "      <th></th>\n",
       "      <th>CRASH_RECORD_ID</th>\n",
       "      <th>CRASH_DATE_EST_I</th>\n",
       "      <th>CRASH_DATE</th>\n",
       "      <th>POSTED_SPEED_LIMIT</th>\n",
       "      <th>TRAFFIC_CONTROL_DEVICE</th>\n",
       "      <th>DEVICE_CONDITION</th>\n",
       "      <th>WEATHER_CONDITION</th>\n",
       "      <th>LIGHTING_CONDITION</th>\n",
       "      <th>FIRST_CRASH_TYPE</th>\n",
       "      <th>TRAFFICWAY_TYPE</th>\n",
       "      <th>...</th>\n",
       "      <th>INJURIES_NON_INCAPACITATING</th>\n",
       "      <th>INJURIES_REPORTED_NOT_EVIDENT</th>\n",
       "      <th>INJURIES_NO_INDICATION</th>\n",
       "      <th>INJURIES_UNKNOWN</th>\n",
       "      <th>CRASH_HOUR</th>\n",
       "      <th>CRASH_DAY_OF_WEEK</th>\n",
       "      <th>CRASH_MONTH</th>\n",
       "      <th>LATITUDE</th>\n",
       "      <th>LONGITUDE</th>\n",
       "      <th>LOCATION</th>\n",
       "    </tr>\n",
       "  </thead>\n",
       "  <tbody>\n",
       "    <tr>\n",
       "      <th>0</th>\n",
       "      <td>01184614b08579d6befa7734427e750d0f10e79dc0aa42...</td>\n",
       "      <td>NaN</td>\n",
       "      <td>04/04/2025 01:57:00 AM</td>\n",
       "      <td>15</td>\n",
       "      <td>NO CONTROLS</td>\n",
       "      <td>NO CONTROLS</td>\n",
       "      <td>CLEAR</td>\n",
       "      <td>DARKNESS, LIGHTED ROAD</td>\n",
       "      <td>ANGLE</td>\n",
       "      <td>PARKING LOT</td>\n",
       "      <td>...</td>\n",
       "      <td>0.0</td>\n",
       "      <td>0.0</td>\n",
       "      <td>2.0</td>\n",
       "      <td>0.0</td>\n",
       "      <td>1</td>\n",
       "      <td>6</td>\n",
       "      <td>4</td>\n",
       "      <td>41.766021</td>\n",
       "      <td>-87.572442</td>\n",
       "      <td>POINT (-87.572442196614 41.766020695126)</td>\n",
       "    </tr>\n",
       "    <tr>\n",
       "      <th>1</th>\n",
       "      <td>01db2b5a81860ebd2fa3f4564ba0de00508847313ce23a...</td>\n",
       "      <td>NaN</td>\n",
       "      <td>04/24/2025 08:40:00 PM</td>\n",
       "      <td>10</td>\n",
       "      <td>NO CONTROLS</td>\n",
       "      <td>NO CONTROLS</td>\n",
       "      <td>CLEAR</td>\n",
       "      <td>DAYLIGHT</td>\n",
       "      <td>REAR TO SIDE</td>\n",
       "      <td>PARKING LOT</td>\n",
       "      <td>...</td>\n",
       "      <td>0.0</td>\n",
       "      <td>0.0</td>\n",
       "      <td>2.0</td>\n",
       "      <td>0.0</td>\n",
       "      <td>20</td>\n",
       "      <td>5</td>\n",
       "      <td>4</td>\n",
       "      <td>41.875048</td>\n",
       "      <td>-87.744921</td>\n",
       "      <td>POINT (-87.744921303711 41.875047815678)</td>\n",
       "    </tr>\n",
       "    <tr>\n",
       "      <th>2</th>\n",
       "      <td>0583b2385710470c0a1bc80417d095512e3d04d6f26158...</td>\n",
       "      <td>NaN</td>\n",
       "      <td>04/24/2025 05:45:00 AM</td>\n",
       "      <td>30</td>\n",
       "      <td>TRAFFIC SIGNAL</td>\n",
       "      <td>FUNCTIONING PROPERLY</td>\n",
       "      <td>CLEAR</td>\n",
       "      <td>DAWN</td>\n",
       "      <td>TURNING</td>\n",
       "      <td>NOT DIVIDED</td>\n",
       "      <td>...</td>\n",
       "      <td>0.0</td>\n",
       "      <td>0.0</td>\n",
       "      <td>2.0</td>\n",
       "      <td>0.0</td>\n",
       "      <td>5</td>\n",
       "      <td>5</td>\n",
       "      <td>4</td>\n",
       "      <td>41.981238</td>\n",
       "      <td>-87.806997</td>\n",
       "      <td>POINT (-87.806997368434 41.981238161467)</td>\n",
       "    </tr>\n",
       "    <tr>\n",
       "      <th>3</th>\n",
       "      <td>05d78a76ea643730a5771ac904b43c56236f332b42db0e...</td>\n",
       "      <td>NaN</td>\n",
       "      <td>04/24/2025 11:13:00 AM</td>\n",
       "      <td>30</td>\n",
       "      <td>NO CONTROLS</td>\n",
       "      <td>NO CONTROLS</td>\n",
       "      <td>CLEAR</td>\n",
       "      <td>DAYLIGHT</td>\n",
       "      <td>FIXED OBJECT</td>\n",
       "      <td>ALLEY</td>\n",
       "      <td>...</td>\n",
       "      <td>0.0</td>\n",
       "      <td>1.0</td>\n",
       "      <td>0.0</td>\n",
       "      <td>0.0</td>\n",
       "      <td>11</td>\n",
       "      <td>5</td>\n",
       "      <td>4</td>\n",
       "      <td>41.742295</td>\n",
       "      <td>-87.652157</td>\n",
       "      <td>POINT (-87.652156998855 41.742294907932)</td>\n",
       "    </tr>\n",
       "    <tr>\n",
       "      <th>4</th>\n",
       "      <td>00a530520c84927490b597a6220ff3f2a3347472ef3086...</td>\n",
       "      <td>NaN</td>\n",
       "      <td>01/15/2025 01:50:00 PM</td>\n",
       "      <td>30</td>\n",
       "      <td>NO CONTROLS</td>\n",
       "      <td>NO CONTROLS</td>\n",
       "      <td>CLEAR</td>\n",
       "      <td>DAYLIGHT</td>\n",
       "      <td>FIXED OBJECT</td>\n",
       "      <td>RAMP</td>\n",
       "      <td>...</td>\n",
       "      <td>0.0</td>\n",
       "      <td>0.0</td>\n",
       "      <td>1.0</td>\n",
       "      <td>0.0</td>\n",
       "      <td>13</td>\n",
       "      <td>4</td>\n",
       "      <td>1</td>\n",
       "      <td>41.816073</td>\n",
       "      <td>-87.656743</td>\n",
       "      <td>POINT (-87.656742699936 41.816073475493)</td>\n",
       "    </tr>\n",
       "  </tbody>\n",
       "</table>\n",
       "<p>5 rows × 48 columns</p>\n",
       "</div>"
      ],
      "text/plain": [
       "                                     CRASH_RECORD_ID CRASH_DATE_EST_I  \\\n",
       "0  01184614b08579d6befa7734427e750d0f10e79dc0aa42...              NaN   \n",
       "1  01db2b5a81860ebd2fa3f4564ba0de00508847313ce23a...              NaN   \n",
       "2  0583b2385710470c0a1bc80417d095512e3d04d6f26158...              NaN   \n",
       "3  05d78a76ea643730a5771ac904b43c56236f332b42db0e...              NaN   \n",
       "4  00a530520c84927490b597a6220ff3f2a3347472ef3086...              NaN   \n",
       "\n",
       "               CRASH_DATE  POSTED_SPEED_LIMIT TRAFFIC_CONTROL_DEVICE  \\\n",
       "0  04/04/2025 01:57:00 AM                  15            NO CONTROLS   \n",
       "1  04/24/2025 08:40:00 PM                  10            NO CONTROLS   \n",
       "2  04/24/2025 05:45:00 AM                  30         TRAFFIC SIGNAL   \n",
       "3  04/24/2025 11:13:00 AM                  30            NO CONTROLS   \n",
       "4  01/15/2025 01:50:00 PM                  30            NO CONTROLS   \n",
       "\n",
       "       DEVICE_CONDITION WEATHER_CONDITION      LIGHTING_CONDITION  \\\n",
       "0           NO CONTROLS             CLEAR  DARKNESS, LIGHTED ROAD   \n",
       "1           NO CONTROLS             CLEAR                DAYLIGHT   \n",
       "2  FUNCTIONING PROPERLY             CLEAR                    DAWN   \n",
       "3           NO CONTROLS             CLEAR                DAYLIGHT   \n",
       "4           NO CONTROLS             CLEAR                DAYLIGHT   \n",
       "\n",
       "  FIRST_CRASH_TYPE TRAFFICWAY_TYPE  ...  INJURIES_NON_INCAPACITATING  \\\n",
       "0            ANGLE     PARKING LOT  ...                          0.0   \n",
       "1     REAR TO SIDE     PARKING LOT  ...                          0.0   \n",
       "2          TURNING     NOT DIVIDED  ...                          0.0   \n",
       "3     FIXED OBJECT           ALLEY  ...                          0.0   \n",
       "4     FIXED OBJECT            RAMP  ...                          0.0   \n",
       "\n",
       "  INJURIES_REPORTED_NOT_EVIDENT INJURIES_NO_INDICATION INJURIES_UNKNOWN  \\\n",
       "0                           0.0                    2.0              0.0   \n",
       "1                           0.0                    2.0              0.0   \n",
       "2                           0.0                    2.0              0.0   \n",
       "3                           1.0                    0.0              0.0   \n",
       "4                           0.0                    1.0              0.0   \n",
       "\n",
       "  CRASH_HOUR CRASH_DAY_OF_WEEK CRASH_MONTH   LATITUDE  LONGITUDE  \\\n",
       "0          1                 6           4  41.766021 -87.572442   \n",
       "1         20                 5           4  41.875048 -87.744921   \n",
       "2          5                 5           4  41.981238 -87.806997   \n",
       "3         11                 5           4  41.742295 -87.652157   \n",
       "4         13                 4           1  41.816073 -87.656743   \n",
       "\n",
       "                                   LOCATION  \n",
       "0  POINT (-87.572442196614 41.766020695126)  \n",
       "1  POINT (-87.744921303711 41.875047815678)  \n",
       "2  POINT (-87.806997368434 41.981238161467)  \n",
       "3  POINT (-87.652156998855 41.742294907932)  \n",
       "4  POINT (-87.656742699936 41.816073475493)  \n",
       "\n",
       "[5 rows x 48 columns]"
      ]
     },
     "execution_count": 77,
     "metadata": {},
     "output_type": "execute_result"
    }
   ],
   "source": [
    "# --- Preview and check for missing values ---\n",
    "crashes_df.head()     # Show the first few rows of the crash data"
   ]
  },
  {
   "cell_type": "code",
   "execution_count": 78,
   "id": "b8382dc4",
   "metadata": {},
   "outputs": [
    {
     "data": {
      "text/plain": [
       "CRASH_RECORD_ID                  0.000000\n",
       "CRASH_DATE_EST_I                 0.926803\n",
       "CRASH_DATE                       0.000000\n",
       "POSTED_SPEED_LIMIT               0.000000\n",
       "TRAFFIC_CONTROL_DEVICE           0.000000\n",
       "DEVICE_CONDITION                 0.000000\n",
       "WEATHER_CONDITION                0.000000\n",
       "LIGHTING_CONDITION               0.000000\n",
       "FIRST_CRASH_TYPE                 0.000000\n",
       "TRAFFICWAY_TYPE                  0.000000\n",
       "LANE_CNT                         0.790752\n",
       "ALIGNMENT                        0.000000\n",
       "ROADWAY_SURFACE_COND             0.000000\n",
       "ROAD_DEFECT                      0.000000\n",
       "REPORT_TYPE                      0.032111\n",
       "CRASH_TYPE                       0.000000\n",
       "INTERSECTION_RELATED_I           0.770075\n",
       "NOT_RIGHT_OF_WAY_I               0.954738\n",
       "HIT_AND_RUN_I                    0.686388\n",
       "DAMAGE                           0.000000\n",
       "DATE_POLICE_NOTIFIED             0.000000\n",
       "PRIM_CONTRIBUTORY_CAUSE          0.000000\n",
       "SEC_CONTRIBUTORY_CAUSE           0.000000\n",
       "STREET_NO                        0.000000\n",
       "STREET_DIRECTION                 0.000004\n",
       "STREET_NAME                      0.000001\n",
       "BEAT_OF_OCCURRENCE               0.000005\n",
       "PHOTOS_TAKEN_I                   0.986063\n",
       "STATEMENTS_TAKEN_I               0.976599\n",
       "DOORING_I                        0.996867\n",
       "WORK_ZONE_I                      0.994534\n",
       "WORK_ZONE_TYPE                   0.995804\n",
       "WORKERS_PRESENT_I                0.998593\n",
       "NUM_UNITS                        0.000000\n",
       "MOST_SEVERE_INJURY               0.002205\n",
       "INJURIES_TOTAL                   0.002190\n",
       "INJURIES_FATAL                   0.002190\n",
       "INJURIES_INCAPACITATING          0.002190\n",
       "INJURIES_NON_INCAPACITATING      0.002190\n",
       "INJURIES_REPORTED_NOT_EVIDENT    0.002190\n",
       "INJURIES_NO_INDICATION           0.002190\n",
       "INJURIES_UNKNOWN                 0.002190\n",
       "CRASH_HOUR                       0.000000\n",
       "CRASH_DAY_OF_WEEK                0.000000\n",
       "CRASH_MONTH                      0.000000\n",
       "LATITUDE                         0.007438\n",
       "LONGITUDE                        0.007438\n",
       "LOCATION                         0.007438\n",
       "dtype: float64"
      ]
     },
     "execution_count": 78,
     "metadata": {},
     "output_type": "execute_result"
    }
   ],
   "source": [
    "crashes_df.isna().mean()   # Show the fraction of missing values per column\n"
   ]
  },
  {
   "cell_type": "code",
   "execution_count": 79,
   "id": "401c90dd",
   "metadata": {},
   "outputs": [
    {
     "data": {
      "text/plain": [
       "NO INDICATION OF INJURY     1902757\n",
       "NONINCAPACITATING INJURY     103925\n",
       "REPORTED, NOT EVIDENT         62951\n",
       "INCAPACITATING INJURY         18563\n",
       "FATAL                          1129\n",
       "Name: INJURY_CLASSIFICATION, dtype: int64"
      ]
     },
     "execution_count": 79,
     "metadata": {},
     "output_type": "execute_result"
    }
   ],
   "source": [
    "people_df.INJURY_CLASSIFICATION.value_counts()    # Count injury types in people data\n"
   ]
  },
  {
   "cell_type": "markdown",
   "id": "e7789908",
   "metadata": {},
   "source": [
    "## Basic Cleaning"
   ]
  },
  {
   "cell_type": "markdown",
   "id": "b42e8b8f",
   "metadata": {},
   "source": [
    "# Drop duplicates and reset index"
   ]
  },
  {
   "cell_type": "code",
   "execution_count": 80,
   "id": "04c27143",
   "metadata": {},
   "outputs": [],
   "source": [
    "# --- Remove duplicate rows and reset index for both datasets ---\n",
    "crashes_df.drop_duplicates(inplace=True)      # Remove duplicate rows in crash data\n",
    "people_df.drop_duplicates(inplace=True)       # Remove duplicate rows in people data\n",
    "crashes_df.reset_index(drop=True, inplace=True)   # Reset index after dropping duplicates\n",
    "people_df.reset_index(drop=True, inplace=True)    # Reset index after dropping duplicates"
   ]
  },
  {
   "cell_type": "code",
   "execution_count": 81,
   "id": "60949deb",
   "metadata": {},
   "outputs": [],
   "source": [
    "# --- Remove duplicate rows \n",
    "crashes_df = crashes_df.loc[:, crashes_df.isnull().mean() < 0.8]   # Remove columns with more than 80% missing values \n",
    "people_df = people_df.loc[:, people_df.isnull().mean() < 0.8]\n"
   ]
  },
  {
   "cell_type": "code",
   "execution_count": 82,
   "id": "77479211",
   "metadata": {},
   "outputs": [
    {
     "data": {
      "text/plain": [
       "(951151, 40)"
      ]
     },
     "execution_count": 82,
     "metadata": {},
     "output_type": "execute_result"
    }
   ],
   "source": [
    "# --- Check shapes and columns after cleaning ---\n",
    "crashes_df.shape"
   ]
  },
  {
   "cell_type": "code",
   "execution_count": 83,
   "id": "71520ebc",
   "metadata": {},
   "outputs": [
    {
     "data": {
      "text/plain": [
       "(2090094, 21)"
      ]
     },
     "execution_count": 83,
     "metadata": {},
     "output_type": "execute_result"
    }
   ],
   "source": [
    "people_df.shape"
   ]
  },
  {
   "cell_type": "code",
   "execution_count": 84,
   "id": "4dc54d31",
   "metadata": {},
   "outputs": [
    {
     "data": {
      "text/plain": [
       "Index(['CRASH_RECORD_ID', 'CRASH_DATE', 'POSTED_SPEED_LIMIT',\n",
       "       'TRAFFIC_CONTROL_DEVICE', 'DEVICE_CONDITION', 'WEATHER_CONDITION',\n",
       "       'LIGHTING_CONDITION', 'FIRST_CRASH_TYPE', 'TRAFFICWAY_TYPE', 'LANE_CNT',\n",
       "       'ALIGNMENT', 'ROADWAY_SURFACE_COND', 'ROAD_DEFECT', 'REPORT_TYPE',\n",
       "       'CRASH_TYPE', 'INTERSECTION_RELATED_I', 'HIT_AND_RUN_I', 'DAMAGE',\n",
       "       'DATE_POLICE_NOTIFIED', 'PRIM_CONTRIBUTORY_CAUSE',\n",
       "       'SEC_CONTRIBUTORY_CAUSE', 'STREET_NO', 'STREET_DIRECTION',\n",
       "       'STREET_NAME', 'BEAT_OF_OCCURRENCE', 'NUM_UNITS', 'MOST_SEVERE_INJURY',\n",
       "       'INJURIES_TOTAL', 'INJURIES_FATAL', 'INJURIES_INCAPACITATING',\n",
       "       'INJURIES_NON_INCAPACITATING', 'INJURIES_REPORTED_NOT_EVIDENT',\n",
       "       'INJURIES_NO_INDICATION', 'INJURIES_UNKNOWN', 'CRASH_HOUR',\n",
       "       'CRASH_DAY_OF_WEEK', 'CRASH_MONTH', 'LATITUDE', 'LONGITUDE',\n",
       "       'LOCATION'],\n",
       "      dtype='object')"
      ]
     },
     "execution_count": 84,
     "metadata": {},
     "output_type": "execute_result"
    }
   ],
   "source": [
    "crashes_df.columns"
   ]
  },
  {
   "cell_type": "code",
   "execution_count": 85,
   "id": "edbee32a",
   "metadata": {},
   "outputs": [
    {
     "data": {
      "text/plain": [
       "Index(['PERSON_ID', 'PERSON_TYPE', 'CRASH_RECORD_ID', 'VEHICLE_ID',\n",
       "       'CRASH_DATE', 'SEAT_NO', 'CITY', 'STATE', 'ZIPCODE', 'SEX', 'AGE',\n",
       "       'DRIVERS_LICENSE_STATE', 'DRIVERS_LICENSE_CLASS', 'SAFETY_EQUIPMENT',\n",
       "       'AIRBAG_DEPLOYED', 'EJECTION', 'INJURY_CLASSIFICATION', 'DRIVER_ACTION',\n",
       "       'DRIVER_VISION', 'PHYSICAL_CONDITION', 'BAC_RESULT'],\n",
       "      dtype='object')"
      ]
     },
     "execution_count": 85,
     "metadata": {},
     "output_type": "execute_result"
    }
   ],
   "source": [
    "people_df.columns"
   ]
  },
  {
   "cell_type": "markdown",
   "id": "e8c2e293",
   "metadata": {},
   "source": [
    "## Merging into one dataframe"
   ]
  },
  {
   "cell_type": "code",
   "execution_count": 86,
   "id": "102d6b28",
   "metadata": {},
   "outputs": [
    {
     "name": "stdout",
     "output_type": "stream",
     "text": [
      "Merged dataset: (2088544, 60)\n"
     ]
    }
   ],
   "source": [
    "# --- Merge crash and people data on CRASH_RECORD_ID ---\n",
    "df = pd.merge(crashes_df, people_df, on='CRASH_RECORD_ID', how='inner')   # Merge datasets\n",
    "print('Merged dataset:', df.shape)"
   ]
  },
  {
   "cell_type": "code",
   "execution_count": 87,
   "id": "a0fa49b5",
   "metadata": {},
   "outputs": [],
   "source": [
    "# --- Select relevant columns for analysis and drop rows with missing values ---\n",
    "cols = [\n",
    "    'WEATHER_CONDITION', 'LIGHTING_CONDITION', 'ROADWAY_SURFACE_COND',\n",
    "    'ROAD_DEFECT', 'TRAFFIC_CONTROL_DEVICE', 'CRASH_HOUR',\n",
    "    'CRASH_DAY_OF_WEEK', 'CRASH_MONTH', 'DRIVER_ACTION',\n",
    "    'DRIVER_VISION', 'MOST_SEVERE_INJURY'\n",
    "]"
   ]
  },
  {
   "cell_type": "code",
   "execution_count": 88,
   "id": "c7af874e",
   "metadata": {},
   "outputs": [],
   "source": [
    "# Keep only selected columns and drop rows with missing values\n",
    "df_fe = df[cols].dropna()"
   ]
  },
  {
   "cell_type": "code",
   "execution_count": 89,
   "id": "a580c5a8",
   "metadata": {},
   "outputs": [
    {
     "data": {
      "text/plain": [
       "WEATHER_CONDITION         0\n",
       "LIGHTING_CONDITION        0\n",
       "ROADWAY_SURFACE_COND      0\n",
       "ROAD_DEFECT               0\n",
       "TRAFFIC_CONTROL_DEVICE    0\n",
       "CRASH_HOUR                0\n",
       "CRASH_DAY_OF_WEEK         0\n",
       "CRASH_MONTH               0\n",
       "DRIVER_ACTION             0\n",
       "DRIVER_VISION             0\n",
       "MOST_SEVERE_INJURY        0\n",
       "dtype: int64"
      ]
     },
     "execution_count": 89,
     "metadata": {},
     "output_type": "execute_result"
    }
   ],
   "source": [
    "df_fe.isnull().sum()"
   ]
  },
  {
   "cell_type": "markdown",
   "id": "9b0472d8",
   "metadata": {},
   "source": [
    "# Encode target severity levels"
   ]
  },
  {
   "cell_type": "code",
   "execution_count": 90,
   "id": "b7158d36",
   "metadata": {},
   "outputs": [],
   "source": [
    "# --- Encode the target variable (MOST_SEVERE_INJURY) as numeric labels ---\n",
    "le = LabelEncoder()  # Create a label encoder\n",
    "df_fe['SEVERITY_LABEL'] = le.fit_transform(df_fe['MOST_SEVERE_INJURY']) # Encode target"
   ]
  },
  {
   "cell_type": "markdown",
   "id": "c372258c",
   "metadata": {},
   "source": [
    "# Map encoding back to labels"
   ]
  },
  {
   "cell_type": "code",
   "execution_count": 91,
   "id": "60c2e444",
   "metadata": {},
   "outputs": [
    {
     "name": "stdout",
     "output_type": "stream",
     "text": [
      "Severity mapping: {'FATAL': 0, 'INCAPACITATING INJURY': 1, 'NO INDICATION OF INJURY': 2, 'NONINCAPACITATING INJURY': 3, 'REPORTED, NOT EVIDENT': 4}\n"
     ]
    }
   ],
   "source": [
    "# --- Map encoded labels back to original severity names for interpretation ---\n",
    "severity_mapping = dict(zip(le.classes_, le.transform(le.classes_)))  # Create mapping dictionary\n",
    "print('Severity mapping:', severity_mapping)"
   ]
  },
  {
   "cell_type": "markdown",
   "id": "9b24f562",
   "metadata": {},
   "source": [
    "## Exploratory Data Analysis"
   ]
  },
  {
   "cell_type": "markdown",
   "id": "1adf67d2",
   "metadata": {},
   "source": [
    "## Distribution of crash severity labels"
   ]
  },
  {
   "cell_type": "code",
   "execution_count": 92,
   "id": "9635f5b3",
   "metadata": {},
   "outputs": [
    {
     "name": "stdout",
     "output_type": "stream",
     "text": [
      "NO INDICATION OF INJURY     1397658\n",
      "NONINCAPACITATING INJURY     146409\n",
      "REPORTED, NOT EVIDENT         85556\n",
      "INCAPACITATING INJURY         30216\n",
      "FATAL                          1827\n",
      "Name: MOST_SEVERE_INJURY, dtype: int64\n"
     ]
    },
    {
     "data": {
      "image/png": "[encoded data removed]",
      "text/plain": [
       "<Figure size 432x288 with 1 Axes>"
      ]
     },
     "metadata": {
      "needs_background": "light"
     },
     "output_type": "display_data"
    }
   ],
   "source": [
    "# --- Exploratory Data Analysis: Visualize severity distribution ---\n",
    "print(df_fe['MOST_SEVERE_INJURY'].value_counts())  # Print counts of each severity\n",
    "sns.countplot(y='MOST_SEVERE_INJURY', data=df_fe, order=df_fe['MOST_SEVERE_INJURY'].value_counts().index)  # Plot severity distribution\n",
    "plt.title('Crash Severity Distribution')\n",
    "plt.xlabel('Count')\n",
    "plt.ylabel('Severity')\n",
    "plt.show()"
   ]
  },
  {
   "cell_type": "markdown",
   "id": "d73cccff",
   "metadata": {},
   "source": [
    "### Crash Severity Distribution\n",
    "\n",
    "Key Insights:\n",
    "1: NO INDICATION OF INJURY dominates the distribution — over 1.3 million crashes had no reported injuries.\n",
    "\n",
    "2: NONINCAPACITATING INJURY and REPORTED, NOT EVIDENT follow, each with significantly fewer crashes.\n",
    "\n",
    "3: INCAPACITATING INJURY and especially FATAL crashes are very rare in this dataset — the bars are barely visible.\n",
    "\n",
    "4: The severity levels are likely sorted by frequency from most to least common (top to bottom).\n",
    "\n",
    "This suggests that most crashes in the dataset are relatively minor or cause no injuries, and serious injuries or fatalities are rare."
   ]
  },
  {
   "cell_type": "markdown",
   "id": "8fd5dba1",
   "metadata": {},
   "source": [
    "## Environmental factor distributions by severity"
   ]
  },
  {
   "cell_type": "code",
   "execution_count": 93,
   "id": "c6fb9371",
   "metadata": {},
   "outputs": [
    {
     "data": {
      "image/png": "[encoded data removed]",
      "text/plain": [
       "<Figure size 576x288 with 1 Axes>"
      ]
     },
     "metadata": {
      "needs_background": "light"
     },
     "output_type": "display_data"
    },
    {
     "data": {
      "image/png": "[encoded data removed]",
      "text/plain": [
       "<Figure size 576x288 with 1 Axes>"
      ]
     },
     "metadata": {
      "needs_background": "light"
     },
     "output_type": "display_data"
    },
    {
     "data": {
      "image/png": "[encoded data removed]",
      "text/plain": [
       "<Figure size 576x288 with 1 Axes>"
      ]
     },
     "metadata": {
      "needs_background": "light"
     },
     "output_type": "display_data"
    }
   ],
   "source": [
    "# --- Plot environmental factors by crash severity ---\n",
    "for col in ['WEATHER_CONDITION', 'LIGHTING_CONDITION', 'ROADWAY_SURFACE_COND']:\n",
    "    plt.figure(figsize=(8,4))\n",
    "    sns.countplot(x=col, hue='MOST_SEVERE_INJURY', data=df_fe) # Plot counts by severity\n",
    "    plt.title(f'{col} by Crash Severity')\n",
    "    plt.xticks(rotation=45)\n",
    "    plt.legend(title='Severity')\n",
    "    plt.tight_layout()\n",
    "    plt.show()"
   ]
  },
  {
   "cell_type": "markdown",
   "id": "1c7e148c",
   "metadata": {},
   "source": [
    "### WEATHER_CONDITION by Crash Severity\n",
    "\n",
    " Key Insights:\n",
    "\n",
    "1.  CLEAR weather has by far the highest number of crashes:\n",
    "\n",
    "\t•\tMost of these crashes had no indication of injury (blue).\n",
    "\t•\tHowever, due to the volume, all severities are present.\n",
    "\n",
    "2.\tRAIN and UNKNOWN weather follow, but at much lower levels.\n",
    "\n",
    "\t•\tRain shows a relatively higher proportion of injury-related crashes.\n",
    "\n",
    "3.\tSNOW, CLOUDY/OVERCAST, and FOG/SMOKE/HAZE have significantly fewer crashes.\n",
    "\n",
    "4.\tSevere weather types (like BLOWING SAND, SEVERE CROSSWIND GATE, etc.) are rare and have tiny bars — indicating very low crash frequency under those conditions.\n",
    "\n",
    " Conclusion:\n",
    "\n",
    "\t•\tMost crashes happen in clear weather, likely because it’s the most common driving condition — not necessarily the most dangerous.\n",
    "\n",
    "\t•\tBad weather (rain, snow, fog) contributes to a smaller number of crashes but may carry a relatively higher injury or fatality risk per crash.\n",
    "\n",
    "\t•\t“Unknown” weather also has a significant number of records, which might affect data accuracy.\n"
   ]
  },
  {
   "cell_type": "markdown",
   "id": "e3359ec6",
   "metadata": {},
   "source": [
    "### LIGHTING_CONDITION by Crash Severity\n",
    "\n",
    " Key Observations:\n",
    "\n",
    "1. DAYLIGHT:\n",
    "\n",
    "\t•\tHas the highest crash count overall — over 800,000.\n",
    "\t•\tMost crashes during daylight have no indication of injury.\n",
    "\t•\tAll severity types are present, including fatal ones, though in smaller numbers.\n",
    "\n",
    "2. DARKNESS – LIGHTED ROAD:\n",
    "\n",
    "\t•\tSecond highest crash count.\n",
    "\t•\tA significant number of injury-related crashes here too (green, orange, red).\n",
    "\t•\tSuggests that night driving, even with streetlights, carries higher risk than daylight.\n",
    "\n",
    "3. DARKNESS (No lighted road):\n",
    "\n",
    "\t•\tLower total crash count than the first two categories, but still notable.\n",
    "\t•\tIncludes all injury severities, including fatal (purple).\n",
    "\t•\tDriving in complete darkness without street lighting appears more dangerous per crash.\n",
    "\n",
    "4. DUSK, DAWN, and UNKNOWN:\n",
    "\n",
    "\t•\tThese categories have lower crash counts.\n",
    "\t•\tHowever, they still show a spread of severity levels, indicating that transitional lighting conditions (e.g. dusk, dawn) can still be risky.\n",
    "\n",
    " Conclusion:\n",
    "\n",
    "\t•\tMost crashes occur during daylight, likely because more people drive then — but daylight crashes mostly result in minor or no injuries.\n",
    "\n",
    "\t•\tNighttime crashes, especially in areas without lighting, seem more dangerous in terms of severity (greater proportions of injury and fatality).\n",
    "\t\n",
    "\t•\tLighting matters: poor lighting increases the risk of serious or fatal injuries during a crash.\n",
    "\n"
   ]
  },
  {
   "cell_type": "markdown",
   "id": "f1b2f1be",
   "metadata": {},
   "source": [
    "### ROADWAY_SURFACE_COND by Crash Severity\n",
    "\n",
    " Key Observations:\n",
    "\n",
    "1. DRY Roads:\n",
    "\n",
    "\t•\tThe highest number of crashes, by far — over 1 million.\n",
    "\t•\tMajority of these crashes have no indication of injury (blue).\n",
    "\t•\tHowever, all levels of severity (including fatalities) are present.\n",
    "\n",
    "Interpretation: Most driving occurs on dry roads, so most crashes happen there — not necessarily because it’s unsafe, but because it’s the most common condition.\n",
    "\n",
    "2. WET Roads:\n",
    "\n",
    "\t•\tSecond highest number of crashes.\n",
    "\t•\tShows a higher relative proportion of injuries and fatalities compared to dry roads (more green, red, purple).\n",
    "\t•\tWet roads may increase crash severity due to slipping and longer stopping distances.\n",
    "\n",
    "3. UNKNOWN:\n",
    "\n",
    "\t•\tSurprisingly high count — could indicate missing or unreliable data.\n",
    "\t•\tInjury distribution is similar to other conditions.\n",
    "\n",
    "4. SNOW OR SLUSH, ICE, SAND/MUD/DIRT:\n",
    "\n",
    "\t•\tMuch fewer crashes overall.\n",
    "\t•\tBut these have a relatively higher severity per crash.\n",
    "\t•\tIce and snow-related crashes show more red and purple bars proportionally.\n",
    "\t•\tSuggests these conditions, while rare, are more dangerous when they occur.\n",
    "\n",
    "5. OTHER:\n",
    "\n",
    "\t•\tVery few crashes, hard to interpret without knowing what “other” includes.\n",
    "\n",
    " Conclusion:\n",
    "\n",
    "\t•\tDry roads see the most crashes overall — likely due to high exposure.\n",
    "\n",
    "\t•\tWet, icy, or snowy roads are riskier per crash, with a higher chance of injury or death.\n",
    "\t\n",
    "\t•\tSurface condition plays a significant role in crash severity, even if not frequency.\n"
   ]
  },
  {
   "cell_type": "markdown",
   "id": "6dd405ca",
   "metadata": {},
   "source": [
    "## Temporal factor: crash hour distribution"
   ]
  },
  {
   "cell_type": "code",
   "execution_count": 94,
   "id": "f599fba1",
   "metadata": {},
   "outputs": [
    {
     "data": {
      "image/png": "[encoded data removed]",
      "text/plain": [
       "<Figure size 576x288 with 1 Axes>"
      ]
     },
     "metadata": {
      "needs_background": "light"
     },
     "output_type": "display_data"
    }
   ],
   "source": [
    "# --- Plot crash hour distribution by severity ---\n",
    "plt.figure(figsize=(8,4))\n",
    "sns.histplot(df_fe, x='CRASH_HOUR', hue='MOST_SEVERE_INJURY', multiple='stack', bins=24)\n",
    "plt.title('Crash Hour Distribution by Severity')\n",
    "plt.xlabel('Hour of Day')\n",
    "plt.ylabel('Count')\n",
    "plt.show()"
   ]
  },
  {
   "cell_type": "markdown",
   "id": "fbf54a83",
   "metadata": {},
   "source": [
    "### Crash Hour Distribution by Severity\n",
    "\n",
    "Key Observations:\n",
    "\n",
    "Crash frequency rises during the daytime, peaking between 14:00 and 17:00 (2–5 PM) — likely due to high traffic volume (e.g., commuting, school pickups).\n",
    "\n",
    "NO INDICATION OF INJURY crashes (blue) dominate throughout all hours — similar to the first chart.\n",
    "\n",
    "Injury-related crashes (orange, green, red, purple) occur consistently but form a much smaller portion of the total.\n",
    "\n",
    "Crashes are less frequent late at night and early morning (midnight to 6 AM).\n",
    "\n",
    "Insight:\n",
    "\n",
    "Crash risk — especially minor, non-injury crashes — is highest in the afternoon, which may help inform traffic safety planning or resource deployment (e.g., more patrols or alerts during high-traffic hours)."
   ]
  },
  {
   "cell_type": "markdown",
   "id": "6944eb42",
   "metadata": {},
   "source": [
    "## Split the data for cleaning and training\n",
    "# Define features and target"
   ]
  },
  {
   "cell_type": "code",
   "execution_count": 95,
   "id": "cf63f16d",
   "metadata": {},
   "outputs": [],
   "source": [
    "# --- Prepare data for modeling: split features and target ---\n",
    "X = df_fe.drop(columns=['MOST_SEVERE_INJURY', 'SEVERITY_LABEL'])\n",
    "y = df_fe['SEVERITY_LABEL']"
   ]
  },
  {
   "cell_type": "markdown",
   "id": "c1e62dd0",
   "metadata": {},
   "source": [
    "# Train-test split"
   ]
  },
  {
   "cell_type": "code",
   "execution_count": 96,
   "id": "ed17a84b",
   "metadata": {},
   "outputs": [],
   "source": [
    "# --- Split data into training and test sets, stratified by target ---\n",
    "X_train, X_test, y_train, y_test = train_test_split(\n",
    "    X, y, test_size=0.2, stratify=y, random_state=42\n",
    ")\n"
   ]
  },
  {
   "cell_type": "markdown",
   "id": "533c15d6",
   "metadata": {},
   "source": [
    "# Encode categorical features with dummy variables\n"
   ]
  },
  {
   "cell_type": "code",
   "execution_count": 97,
   "id": "0efdf4d6",
   "metadata": {},
   "outputs": [],
   "source": [
    "# --- One-hot encode categorical features ---\n",
    "X_train_enc = pd.get_dummies(X_train)  # Encode training features\n",
    "X_test_enc = pd.get_dummies(X_test)\n"
   ]
  },
  {
   "cell_type": "markdown",
   "id": "86ba4a39",
   "metadata": {},
   "source": [
    "# Align test set to train set columns"
   ]
  },
  {
   "cell_type": "code",
   "execution_count": 98,
   "id": "ae3dce6c",
   "metadata": {},
   "outputs": [
    {
     "name": "stdout",
     "output_type": "stream",
     "text": [
      "Training set shape: (1329332, 88)\n",
      "Test set shape: (332334, 88)\n"
     ]
    }
   ],
   "source": [
    "# --- Align test set columns to match training set ---\n",
    "X_train_enc, X_test_enc = X_train_enc.align(X_test_enc, join='left', axis=1, fill_value=0)   # Ensure same columns\n",
    "\n",
    "print('Training set shape:', X_train_enc.shape)\n",
    "print('Test set shape:', X_test_enc.shape)"
   ]
  },
  {
   "cell_type": "code",
   "execution_count": 99,
   "id": "f3a6b3a1",
   "metadata": {},
   "outputs": [],
   "source": [
    "# --- Balance the training data using SMOTE (synthetic oversampling) ---\n",
    "\n",
    "rus = RandomUnderSampler(random_state=42)\n",
    "X_train_res, y_train_res = rus.fit_resample(X_train_enc, y_train)"
   ]
  },
  {
   "cell_type": "markdown",
   "id": "100fb43c",
   "metadata": {},
   "source": [
    "## Model Iterations\n",
    "\n",
    "### Dummy Classifier\n",
    "\n",
    "# Baseline for comparison"
   ]
  },
  {
   "cell_type": "code",
   "execution_count": 100,
   "id": "bdd7548a",
   "metadata": {},
   "outputs": [
    {
     "name": "stdout",
     "output_type": "stream",
     "text": [
      "Dummy Classifier Metrics\n",
      "Accuracy: 0.8411176707769894\n",
      "              precision    recall  f1-score   support\n",
      "\n",
      "           0       0.00      0.00      0.00       366\n",
      "           1       0.00      0.00      0.00      6043\n",
      "           2       0.84      1.00      0.91    279532\n",
      "           3       0.00      0.00      0.00     29282\n",
      "           4       0.00      0.00      0.00     17111\n",
      "\n",
      "    accuracy                           0.84    332334\n",
      "   macro avg       0.17      0.20      0.18    332334\n",
      "weighted avg       0.71      0.84      0.77    332334\n",
      "\n"
     ]
    }
   ],
   "source": [
    "# --- Baseline model: Dummy classifier (predicts most frequent class) ---\n",
    "dummy = DummyClassifier(strategy='most_frequent')  # Create dummy classifier\n",
    "dummy.fit(X_train_enc, y_train)\n",
    "y_pred_dummy = dummy.predict(X_test_enc)\n",
    "print('Dummy Classifier Metrics')\n",
    "print('Accuracy:', accuracy_score(y_test, y_pred_dummy))\n",
    "print(classification_report(y_test, y_pred_dummy))"
   ]
  },
  {
   "cell_type": "markdown",
   "id": "9451cfc8",
   "metadata": {},
   "source": [
    "### Logistic Regression"
   ]
  },
  {
   "cell_type": "markdown",
   "id": "757f9a57",
   "metadata": {},
   "source": [
    "# Scale features"
   ]
  },
  {
   "cell_type": "code",
   "execution_count": 101,
   "id": "94fa7c82",
   "metadata": {},
   "outputs": [],
   "source": [
    "# --- Logistic Regression: scale features and train model ---\n",
    "scaler = StandardScaler()  # Create a scaler for standardizing features\n",
    "X_train_scaled = scaler.fit_transform(X_train_res) # Fit scaler on training data and transform\n",
    "X_test_scaled  = scaler.transform(X_test_enc)  # Transform test data using the same scaler"
   ]
  },
  {
   "cell_type": "markdown",
   "id": "457e2652",
   "metadata": {},
   "source": [
    "# Train LR model"
   ]
  },
  {
   "cell_type": "code",
   "execution_count": 102,
   "id": "f4a6bb56",
   "metadata": {},
   "outputs": [
    {
     "name": "stdout",
     "output_type": "stream",
     "text": [
      "Logistic Regression Metrics\n",
      "Accuracy: 0.3907815631262525\n",
      "              precision    recall  f1-score   support\n",
      "\n",
      "           0       0.00      0.57      0.01       366\n",
      "           1       0.02      0.14      0.04      6043\n",
      "           2       0.90      0.43      0.58    279532\n",
      "           3       0.13      0.21      0.16     29282\n",
      "           4       0.06      0.20      0.10     17111\n",
      "\n",
      "    accuracy                           0.39    332334\n",
      "   macro avg       0.22      0.31      0.18    332334\n",
      "weighted avg       0.77      0.39      0.51    332334\n",
      "\n"
     ]
    }
   ],
   "source": [
    "# --- Train and evaluate Logistic Regression model ---\n",
    "\n",
    "# Create logistic regression model with balanced class weights\n",
    "lr = LogisticRegression(max_iter=1000)\n",
    "lr.fit(X_train_scaled, y_train_res)  # Train model on resampled, scaled data\n",
    "y_pred_lr = lr.predict(X_test_scaled) # Predict on test data\n",
    "print('Logistic Regression Metrics')\n",
    "print('Accuracy:', accuracy_score(y_test, y_pred_lr))\n",
    "print(classification_report(y_test, y_pred_lr))"
   ]
  },
  {
   "cell_type": "markdown",
   "id": "cd9845bf",
   "metadata": {},
   "source": [
    "### Logistic Regression (Hyperparameter Tuning)"
   ]
  },
  {
   "cell_type": "markdown",
   "id": "23de48e1",
   "metadata": {},
   "source": [
    "# Define parameter grid for tuning"
   ]
  },
  {
   "cell_type": "code",
   "execution_count": 103,
   "id": "819f5e3a",
   "metadata": {},
   "outputs": [],
   "source": [
    "# --- Logistic Regression with hyperparameter tuning using GridSearchCV ---\n",
    "param_grid = {       # Regularization strengths to try\n",
    "    'C': [0.1, 1, 10],\n",
    "    'penalty': ['l2'],        \n",
    "    'solver': ['liblinear']\n",
    "   }"
   ]
  },
  {
   "cell_type": "markdown",
   "metadata": {},
   "source": [
    "# Set up GridSearchCV with logistic regression pipeline"
   ]
  },
  {
   "cell_type": "code",
   "execution_count": 104,
   "metadata": {},
   "outputs": [
    {
     "name": "stdout",
     "output_type": "stream",
     "text": [
      "Best hyperparameters: {'C': 0.1, 'penalty': 'l2', 'solver': 'liblinear'}\n",
      "Tuned Logistic Regression Metrics\n",
      "Accuracy: 0.3910463569782207\n",
      "              precision    recall  f1-score   support\n",
      "\n",
      "           0       0.00      0.58      0.01       366\n",
      "           1       0.02      0.13      0.04      6043\n",
      "           2       0.90      0.43      0.58    279532\n",
      "           3       0.13      0.21      0.16     29282\n",
      "           4       0.06      0.20      0.10     17111\n",
      "\n",
      "    accuracy                           0.39    332334\n",
      "   macro avg       0.22      0.31      0.18    332334\n",
      "weighted avg       0.77      0.39      0.51    332334\n",
      "\n"
     ]
    },
    {
     "data": {
      "image/png": "[encoded data removed]",
      "text/plain": [
       "<Figure size 432x360 with 2 Axes>"
      ]
     },
     "metadata": {
      "needs_background": "light"
     },
     "output_type": "display_data"
    }
   ],
   "source": [
    "tuned_lr = GridSearchCV(\n",
    "    estimator=LogisticRegression(max_iter=1000),\n",
    "    param_grid=param_grid,\n",
    "    scoring='f1_weighted',\n",
    "    cv=3,\n",
    "    n_jobs=1   \n",
    ")\n",
    "\n",
    "\n",
    "# Fit on the SMOTE-resampled labels\n",
    "tuned_lr.fit(X_train_scaled, y_train_res)   # Fit grid search on training data\n",
    "\n",
    "print('Best hyperparameters:', tuned_lr.best_params_)\n",
    "\n",
    "y_pred_tuned = tuned_lr.predict(X_test_scaled)\n",
    "print('Tuned Logistic Regression Metrics')\n",
    "print('Accuracy:', accuracy_score(y_test, y_pred_tuned))\n",
    "print(classification_report(y_test, y_pred_tuned, zero_division=0))\n",
    "\n",
    "# Plot confusion matrix for tuned logistic regression\n",
    "tcm = confusion_matrix(y_test, y_pred_tuned)\n",
    "plt.figure(figsize=(6,5))\n",
    "sns.heatmap(tcm, annot=True, fmt='d', cmap='Blues')\n",
    "plt.title('Confusion Matrix - Tuned Logistic Regression')\n",
    "plt.xlabel('Predicted')\n",
    "plt.ylabel('Actual')\n",
    "plt.show()"
   ]
  },
  {
   "cell_type": "markdown",
   "id": "627f5735",
   "metadata": {},
   "source": [
    "Observations:\n",
    "\n",
    "Very stable accuracy, even after tuning, demonstrating consistent performance.\n",
    "\n",
    "Class 2 (majority class) is handled well with high precision and F1-score.\n",
    "\n",
    "Tuning slightly improved minority class recall, particularly class 0 and 1.\n",
    "\n",
    "Weighted F1-score (~0.51) suggests reasonable handling of imbalance using simple linear modeling."
   ]
  },
  {
   "cell_type": "markdown",
   "metadata": {},
   "source": [
    "## Decision Tree Classifier"
   ]
  },
  {
   "cell_type": "code",
   "execution_count": 105,
   "metadata": {},
   "outputs": [
    {
     "name": "stdout",
     "output_type": "stream",
     "text": [
      "Decision Tree Metrics\n",
      "Accuracy: 0.27079083091107137\n",
      "              precision    recall  f1-score   support\n",
      "\n",
      "           0       0.00      0.70      0.00       366\n",
      "           1       0.03      0.06      0.04      6043\n",
      "           2       0.89      0.28      0.43    279532\n",
      "           3       0.11      0.32      0.16     29282\n",
      "           4       0.06      0.04      0.05     17111\n",
      "\n",
      "    accuracy                           0.27    332334\n",
      "   macro avg       0.22      0.28      0.14    332334\n",
      "weighted avg       0.76      0.27      0.38    332334\n",
      "\n"
     ]
    }
   ],
   "source": [
    "# --- Decision Tree Classifier and hyperparameter tuning ---\n",
    "dt = DecisionTreeClassifier(max_depth=5, random_state=42)  # Create a shallow decision tree\n",
    "dt.fit(X_train_res, y_train_res)  # Train on resampled data\n",
    "y_pred_dt = dt.predict(X_test_enc)\n",
    "print('Decision Tree Metrics')\n",
    "print('Accuracy:', accuracy_score(y_test, y_pred_dt))\n",
    "print(classification_report(y_test, y_pred_dt))"
   ]
  },
  {
   "cell_type": "markdown",
   "metadata": {},
   "source": [
    "## Decision Tree (Hyperparameter Tuning)\n",
    "### Parameter grid for tuning"
   ]
  },
  {
   "cell_type": "code",
   "execution_count": 106,
   "metadata": {},
   "outputs": [
    {
     "name": "stdout",
     "output_type": "stream",
     "text": [
      "Best hyperparameters (Decision Tree): {'max_depth': 7, 'min_samples_leaf': 1, 'min_samples_split': 2}\n",
      "Tuned Decision Tree Metrics\n",
      "Accuracy: 0.26432745370621125\n",
      "              precision    recall  f1-score   support\n",
      "\n",
      "           0       0.00      0.73      0.00       366\n",
      "           1       0.02      0.08      0.04      6043\n",
      "           2       0.89      0.28      0.42    279532\n",
      "           3       0.11      0.27      0.15     29282\n",
      "           4       0.06      0.07      0.06     17111\n",
      "\n",
      "    accuracy                           0.26    332334\n",
      "   macro avg       0.22      0.29      0.14    332334\n",
      "weighted avg       0.76      0.26      0.37    332334\n",
      "\n"
     ]
    },
    {
     "data": {
      "image/png": "[encoded data removed]",
      "text/plain": [
       "<Figure size 432x360 with 2 Axes>"
      ]
     },
     "metadata": {
      "needs_background": "light"
     },
     "output_type": "display_data"
    }
   ],
   "source": [
    "# --- Decision Tree with hyperparameter tuning using GridSearchCV ---\n",
    "tree_param_grid = {\n",
    "    'max_depth': [3, 5, 7, 10],   # Try different tree depths\n",
    "    'min_samples_split': [2, 5, 10],\n",
    "    'min_samples_leaf': [1, 2, 4]\n",
    "}\n",
    "\n",
    "tuned_dt = GridSearchCV(\n",
    "    estimator=DecisionTreeClassifier(random_state=42),\n",
    "    param_grid=tree_param_grid,\n",
    "    scoring='f1_weighted',\n",
    "    cv=3,\n",
    "    n_jobs=1\n",
    ")\n",
    "\n",
    "tuned_dt.fit(X_train_res, y_train_res) \n",
    "print('Best hyperparameters (Decision Tree):', tuned_dt.best_params_)\n",
    "\n",
    "y_pred_tuned_dt = tuned_dt.predict(X_test_enc)\n",
    "print('Tuned Decision Tree Metrics')\n",
    "print('Accuracy:', accuracy_score(y_test, y_pred_tuned_dt))\n",
    "print(classification_report(y_test, y_pred_tuned_dt, zero_division=0))\n",
    "\n",
    "\n",
    "# Plot confusion matrix for tuned decision tree\n",
    "dt_cm = confusion_matrix(y_test, y_pred_tuned_dt)\n",
    "plt.figure(figsize=(6,5))\n",
    "sns.heatmap(dt_cm, annot=True, fmt='d', cmap='Greens')\n",
    "plt.title('Confusion Matrix - Tuned Decision Tree')\n",
    "plt.xlabel('Predicted')\n",
    "plt.ylabel('Actual')\n",
    "plt.show()\n"
   ]
  },
  {
   "cell_type": "markdown",
   "id": "a913e0a8",
   "metadata": {},
   "source": [
    "Observations:\n",
    "\n",
    "Very high recall for class 0 in both versions — shows it detects this minority class well.\n",
    "\n",
    "Tuning improved recall for classes 0, 1, and 4 — slightly enhancing minority class sensitivity.\n",
    "\n",
    "Max depth tuning (7) reduces overfitting, making the model more generalizable.\n",
    "\n",
    "Provides a clear, rule-based output, great for explainability and stakeholder communication."
   ]
  },
  {
   "cell_type": "markdown",
   "metadata": {},
   "source": [
    "## Random Forest "
   ]
  },
  {
   "cell_type": "code",
   "execution_count": null,
   "metadata": {},
   "outputs": [
    {
     "name": "stdout",
     "output_type": "stream",
     "text": [
      "Balanced Random Forest Metrics\n",
      "Accuracy: 0.3816732564227554\n",
      "              precision    recall  f1-score   support\n",
      "\n",
      "           0       0.00      0.58      0.01       366\n",
      "           1       0.03      0.12      0.04      6043\n",
      "           2       0.90      0.41      0.56    279532\n",
      "           3       0.12      0.25      0.16     29282\n",
      "           4       0.06      0.18      0.09     17111\n",
      "\n",
      "    accuracy                           0.38    332334\n",
      "   macro avg       0.22      0.31      0.17    332334\n",
      "weighted avg       0.77      0.38      0.49    332334\n",
      "\n"
     ]
    }
   ],
   "source": [
    "# --- Random Forest Classifier and hyperparameter tuning ---\n",
    "# Create a Random Forest with balanced class weights\n",
    "rf_param_grid = {\n",
    "    'n_estimators':    [50, 100, 200],\n",
    "    'max_depth':       [None, 10, 20],\n",
    "    'min_samples_split':[2, 5, 10],\n",
    "    'min_samples_leaf': [1, 2, 4],\n",
    "    'class_weight':    ['balanced', 'balanced_subsample']  # ← try both strategies\n",
    "}\n",
    "\n",
    "tuned_rf = GridSearchCV(\n",
    "    estimator=RandomForestClassifier(random_state=42),\n",
    "    param_grid=rf_param_grid,\n",
    "    scoring='f1_weighted',\n",
    "    cv=3,\n",
    "    n_jobs=1\n",
    ")\n",
    "\n",
    "tuned_rf.fit(X_train_res, y_train_res)\n",
    "\n",
    "print('Best hyperparameters (Balanced RF):', tuned_rf.best_params_)\n",
    "\n",
    "y_pred_tuned_rf = tuned_rf.predict(X_test_enc)\n",
    "print('Tuned Balanced RF Metrics')\n",
    "print('Accuracy:', accuracy_score(y_test, y_pred_tuned_rf))\n",
    "print(classification_report(y_test, y_pred_tuned_rf, zero_division=0))"
   ]
  },
  {
   "cell_type": "markdown",
   "metadata": {},
   "source": [
    "### Random Forest (Hyperparameter Tuning)\n",
    "# Parameter grid for tuning\n",
    "\n"
   ]
  },
  {
   "cell_type": "code",
   "execution_count": 108,
   "metadata": {},
   "outputs": [
    {
     "name": "stdout",
     "output_type": "stream",
     "text": [
      "Best hyperparameters (Balanced RF): {'class_weight': 'balanced_subsample', 'max_depth': 20, 'min_samples_leaf': 2, 'min_samples_split': 10, 'n_estimators': 50}\n",
      "Tuned Balanced RF Metrics\n",
      "Accuracy: 0.34513170485114375\n",
      "              precision    recall  f1-score   support\n",
      "\n",
      "           0       0.00      0.60      0.01       366\n",
      "           1       0.03      0.16      0.05      6043\n",
      "           2       0.90      0.37      0.52    279532\n",
      "           3       0.11      0.22      0.15     29282\n",
      "           4       0.06      0.22      0.09     17111\n",
      "\n",
      "    accuracy                           0.35    332334\n",
      "   macro avg       0.22      0.31      0.16    332334\n",
      "weighted avg       0.77      0.35      0.46    332334\n",
      "\n"
     ]
    },
    {
     "data": {
      "image/png": "[encoded data removed]",
      "text/plain": [
       "<Figure size 432x360 with 2 Axes>"
      ]
     },
     "metadata": {
      "needs_background": "light"
     },
     "output_type": "display_data"
    }
   ],
   "source": [
    "# --- Random Forest with hyperparameter tuning using GridSearchCV ---\n",
    "rf_param_grid = {\n",
    "    'n_estimators':     [50, 100, 200],          # Number of trees\n",
    "    'max_depth':        [None, 10, 20],\n",
    "    'min_samples_split':[2, 5, 10],\n",
    "    'min_samples_leaf': [1, 2, 4],\n",
    "    'class_weight':     ['balanced', 'balanced_subsample']  \n",
    "}\n",
    "\n",
    "tuned_rf = GridSearchCV(\n",
    "    estimator=RandomForestClassifier(random_state=42),\n",
    "    param_grid=rf_param_grid,\n",
    "    scoring='f1_weighted',\n",
    "    cv=3,\n",
    "    n_jobs=1\n",
    ")\n",
    "\n",
    "tuned_rf.fit(X_train_res, y_train_res)\n",
    "print('Best hyperparameters (Balanced RF):', tuned_rf.best_params_)\n",
    "\n",
    "y_pred_tuned_rf = tuned_rf.predict(X_test_enc)\n",
    "print('Tuned Balanced RF Metrics')\n",
    "print('Accuracy:', accuracy_score(y_test, y_pred_tuned_rf))\n",
    "print(classification_report(y_test, y_pred_tuned_rf, zero_division=0))\n",
    "\n",
    "# Plot confusion matrix for tuned, balanced random forest\n",
    "rf_cm = confusion_matrix(y_test, y_pred_tuned_rf)\n",
    "plt.figure(figsize=(6,5))\n",
    "sns.heatmap(rf_cm, annot=True, fmt='d', cmap='Oranges')\n",
    "plt.title('Confusion Matrix - Tuned Balanced Random Forest')\n",
    "plt.xlabel('Predicted')\n",
    "plt.ylabel('Actual')\n",
    "plt.show()"
   ]
  },
  {
   "cell_type": "markdown",
   "id": "0463588a",
   "metadata": {},
   "source": [
    "Observations:\n",
    "\n",
    "Strongest performer for class 4 recall (best among all models).\n",
    "\n",
    "Tuning brought improvements in minority class recall, particularly class 4.\n",
    "\n",
    "Balanced class weighting helps address imbalance without needing resampling techniques.\n",
    "\n",
    "Consistent precision (~0.90) for class 2 shows robustness in handling dominant classes."
   ]
  },
  {
   "cell_type": "markdown",
   "metadata": {},
   "source": [
    "## Feature Importance and Interpretation"
   ]
  },
  {
   "cell_type": "markdown",
   "metadata": {},
   "source": [
    "# Plot top 10 features"
   ]
  },
  {
   "cell_type": "code",
   "execution_count": 109,
   "metadata": {},
   "outputs": [
    {
     "data": {
      "image/png": "[encoded data removed]",
      "text/plain": [
       "<Figure size 720x432 with 1 Axes>"
      ]
     },
     "metadata": {
      "needs_background": "light"
     },
     "output_type": "display_data"
    }
   ],
   "source": [
    "# --- Feature importance plot for Random Forest ---\n",
    "\n",
    "# Get the feature importances from the trained Random Forest model\n",
    "importances = rf.feature_importances_\n",
    "indices = np.argsort(importances)[-10:]\n",
    "features_top = X_train_enc.columns[indices]\n",
    "\n",
    "# Create a new figure with a specified size\n",
    "plt.figure(figsize=(10,6))\n",
    "\n",
    "# Create a horizontal bar plot of the top 10 feature importances\n",
    "sns.barplot(x=importances[indices], y=features_top)\n",
    "\n",
    "# Set the plot title and x-axis label\n",
    "plt.title('Top 10 Important Features for Severe Crashes')\n",
    "plt.xlabel('Importance Score')\n",
    "plt.show()"
   ]
  },
  {
   "cell_type": "markdown",
   "id": "eda66f16",
   "metadata": {},
   "source": [
    "Conclusions:\n",
    "\n",
    "1: Injury-Free Crashes Dominate\n",
    "The vast majority of crashes (~1.3 million) involve no indication of injury. This suggests that while crash frequency is high, most do not result in physical harm. However, they still carry economic and traffic-related costs.\n",
    "\n",
    "2: Environmental Factors Are Significant\n",
    "\n",
    "-Crashes are most frequent in clear weather and daylight, but this likely reflects driving exposure rather than inherent danger.\n",
    "\n",
    "-Rain, fog, and low light conditions show proportionally more severe injuries relative to their frequency. These conditions may increase the risk per crash.\n",
    "\n",
    "3: Behavioral Factors Matter\n",
    "\n",
    "-Distracted driving, speeding, and impairment-related features (e.g., DUI, driver condition) were explored. These showed associations with higher injury severities.\n",
    "\n",
    "-Human factors are essential for targeting prevention strategies.\n",
    "\n",
    "4: Severe Outcomes Are Rare but Predictable\n",
    "\n",
    "Fatal and incapacitating injuries are rare, but machine learning models could still identify patterns leading to these outcomes with reasonable accuracy."
   ]
  },
  {
   "cell_type": "markdown",
   "id": "364ebd99",
   "metadata": {},
   "source": [
    "Recommendations for CDOT\n",
    "\n",
    "1: Target High-Risk Conditions\n",
    "\n",
    "-Improve signage, lighting, and signal systems during rain, fog, and nighttime conditions.\n",
    "\n",
    "-Consider temporal interventions (e.g., speed reductions or increased patrols during certain times of day or weather).\n",
    "\n",
    "2: Behavioral Campaigns\n",
    "\n",
    "-Educate the public about the dangers of distracted or impaired driving.\n",
    "\n",
    "-Promote safe driving behavior even in \"safe-looking\" conditions like daylight or clear weather.\n",
    "\n",
    "3: Use Model Predictions in Planning\n",
    "\n",
    "-Integrate your trained model into a real-time decision system that flags potential high-risk crash combinations (e.g., poor weather + speeding + low visibility).\n",
    "\n",
    "-Use the model to allocate resources dynamically (e.g., EMS positioning, road maintenance).\n",
    "\n"
   ]
  }
 ],
 "metadata": {
  "kernelspec": {
   "display_name": "Python 3",
   "language": "python",
   "name": "python3"
  },
  "language_info": {
   "codemirror_mode": {
    "name": "ipython",
    "version": 3
   },
   "file_extension": ".py",
   "mimetype": "text/x-python",
   "name": "python",
   "nbconvert_exporter": "python",
   "pygments_lexer": "ipython3",
   "version": "3.8.5"
  }
 },
 "nbformat": 4,
 "nbformat_minor": 5
}
